{
 "cells": [
  {
   "cell_type": "code",
   "execution_count": 1,
   "metadata": {},
   "outputs": [
    {
     "data": {
      "text/html": [
       "<div>\n",
       "<style>\n",
       "    .dataframe thead tr:only-child th {\n",
       "        text-align: right;\n",
       "    }\n",
       "\n",
       "    .dataframe thead th {\n",
       "        text-align: left;\n",
       "    }\n",
       "\n",
       "    .dataframe tbody tr th {\n",
       "        vertical-align: top;\n",
       "    }\n",
       "</style>\n",
       "<table border=\"1\" class=\"dataframe\">\n",
       "  <thead>\n",
       "    <tr style=\"text-align: right;\">\n",
       "      <th></th>\n",
       "      <th>thickness</th>\n",
       "      <th>uofcsize</th>\n",
       "      <th>uofcshape</th>\n",
       "      <th>adhesion</th>\n",
       "      <th>secsize</th>\n",
       "      <th>bnuclei</th>\n",
       "      <th>chromatinb</th>\n",
       "      <th>nnucleoi</th>\n",
       "      <th>mitoses</th>\n",
       "      <th>output</th>\n",
       "    </tr>\n",
       "  </thead>\n",
       "  <tbody>\n",
       "    <tr>\n",
       "      <th>0</th>\n",
       "      <td>3.0</td>\n",
       "      <td>1.0</td>\n",
       "      <td>1.0</td>\n",
       "      <td>1.0</td>\n",
       "      <td>2.0</td>\n",
       "      <td>1.0</td>\n",
       "      <td>1.0</td>\n",
       "      <td>1.0</td>\n",
       "      <td>1.0</td>\n",
       "      <td>2</td>\n",
       "    </tr>\n",
       "    <tr>\n",
       "      <th>1</th>\n",
       "      <td>1.0</td>\n",
       "      <td>1.0</td>\n",
       "      <td>1.0</td>\n",
       "      <td>3.0</td>\n",
       "      <td>1.0</td>\n",
       "      <td>3.0</td>\n",
       "      <td>1.0</td>\n",
       "      <td>1.0</td>\n",
       "      <td>1.0</td>\n",
       "      <td>2</td>\n",
       "    </tr>\n",
       "    <tr>\n",
       "      <th>2</th>\n",
       "      <td>8.0</td>\n",
       "      <td>7.0</td>\n",
       "      <td>8.0</td>\n",
       "      <td>5.0</td>\n",
       "      <td>5.0</td>\n",
       "      <td>10.0</td>\n",
       "      <td>9.0</td>\n",
       "      <td>10.0</td>\n",
       "      <td>1.0</td>\n",
       "      <td>4</td>\n",
       "    </tr>\n",
       "    <tr>\n",
       "      <th>3</th>\n",
       "      <td>2.0</td>\n",
       "      <td>1.0</td>\n",
       "      <td>1.0</td>\n",
       "      <td>2.0</td>\n",
       "      <td>2.0</td>\n",
       "      <td>1.0</td>\n",
       "      <td>3.0</td>\n",
       "      <td>1.0</td>\n",
       "      <td>1.0</td>\n",
       "      <td>2</td>\n",
       "    </tr>\n",
       "    <tr>\n",
       "      <th>4</th>\n",
       "      <td>1.0</td>\n",
       "      <td>1.0</td>\n",
       "      <td>3.0</td>\n",
       "      <td>1.0</td>\n",
       "      <td>2.0</td>\n",
       "      <td>1.0</td>\n",
       "      <td>2.0</td>\n",
       "      <td>1.0</td>\n",
       "      <td>1.0</td>\n",
       "      <td>2</td>\n",
       "    </tr>\n",
       "  </tbody>\n",
       "</table>\n",
       "</div>"
      ],
      "text/plain": [
       "   thickness  uofcsize  uofcshape  adhesion  secsize  bnuclei  chromatinb  \\\n",
       "0        3.0       1.0        1.0       1.0      2.0      1.0         1.0   \n",
       "1        1.0       1.0        1.0       3.0      1.0      3.0         1.0   \n",
       "2        8.0       7.0        8.0       5.0      5.0     10.0         9.0   \n",
       "3        2.0       1.0        1.0       2.0      2.0      1.0         3.0   \n",
       "4        1.0       1.0        3.0       1.0      2.0      1.0         2.0   \n",
       "\n",
       "   nnucleoi  mitoses  output  \n",
       "0       1.0      1.0       2  \n",
       "1       1.0      1.0       2  \n",
       "2      10.0      1.0       4  \n",
       "3       1.0      1.0       2  \n",
       "4       1.0      1.0       2  "
      ]
     },
     "execution_count": 1,
     "metadata": {},
     "output_type": "execute_result"
    }
   ],
   "source": [
    "from banzhaf_dt import *\n",
    "import pandas as pd\n",
    "import numpy as np\n",
    "import entropy_estimators\n",
    "from sklearn.model_selection import train_test_split\n",
    "import copy\n",
    "\n",
    "columns = ['code_num','thickness','uofcsize','uofcshape','adhesion','secsize',\\\n",
    "\t\t'bnuclei','chromatinb','nnucleoi','mitoses','output']\n",
    "data = pd.read_csv('breast-cancer-wisconsin.data',names=columns)\n",
    "data.drop(['code_num'],1,inplace=True)\n",
    "data.replace('?',-99999, inplace=True)\n",
    "data = data.astype(float)\n",
    "data['output'] = data['output'].astype(int)\n",
    "columns.pop(-1)\n",
    "columns.pop(0)\n",
    "\n",
    "X = data[columns]\n",
    "y = data['output']\n",
    "X_train, X_test, y_train, y_test = train_test_split(X, y, test_size=0.33, random_state=42)\n",
    "training_data = copy.copy(X_train)\n",
    "training_data['output'] = y_train\n",
    "training_data = training_data.reset_index(drop=True)\n",
    "training_data.head()"
   ]
  },
  {
   "cell_type": "code",
   "execution_count": null,
   "metadata": {
    "collapsed": true
   },
   "outputs": [],
   "source": [
    "columns.append('output')\n",
    "update_cols(columns)\n",
    "update_data(training_data[columns].values)\n",
    "banzhaf_tree_untouched = build_tree(training_data[columns].values,banzhaf=True)\n",
    "print_tree(banzhaf_tree_untouched)"
   ]
  },
  {
   "cell_type": "code",
   "execution_count": null,
   "metadata": {
    "collapsed": true
   },
   "outputs": [],
   "source": [
    "def select_kbest_features(k,data):\n",
    "    output = list(data['output'].values.reshape(-1,1))\n",
    "    S = []\n",
    "    while k > 0:\n",
    "        curr_info = 0\n",
    "        MI = []\n",
    "        columns = list(data.columns.values)\n",
    "        for f in columns[:-1]:\n",
    "            if len(S) == 0:\n",
    "                y = list(data[f].values.reshape(-1,1))\n",
    "                curr_info = ee.mi(output,y)\n",
    "            else:\n",
    "                if f in S:\n",
    "                    continue\n",
    "                else:\n",
    "                    y = list(data[f].values.reshape(-1,1))\n",
    "                    z = list(data[S].values.reshape(-1,len(S)))\n",
    "                    curr_info = ee.cmi(output,y,z)\n",
    "            if curr_info == 0:\n",
    "                data.drop(f, axis=1, inplace=True)\n",
    "            else:\n",
    "                MI.append({'value':curr_info,'label':f})\n",
    "        maxMIfeature = max(MI, key=lambda x:x['value'])\n",
    "        S.append(maxMIfeature['label'])\n",
    "        k = k - 1\n",
    "    return S"
   ]
  },
  {
   "cell_type": "code",
   "execution_count": null,
   "metadata": {
    "collapsed": true
   },
   "outputs": [],
   "source": [
    "selected_feature = select_kbest_features(5,training_data)\n",
    "selected_feature.append('output')\n",
    "update_cols(selected_feature)\n",
    "training_data = training_data[selected_feature].values\n",
    "update_data(training_data)\n",
    "banzhaf_tree = build_tree(training_data,banzhaf=True)\n",
    "print_tree(banzhaf_tree)"
   ]
  },
  {
   "cell_type": "code",
   "execution_count": null,
   "metadata": {
    "collapsed": true
   },
   "outputs": [],
   "source": [
    "testing_data = np.column_stack((X_test,y_test))\n",
    "prediction_banzhaf_untouched = []\n",
    "prediction_banzhaf = []\n",
    "\n",
    "for test_example in testing_data:\n",
    "    prediction = classify(test_example,banzhaf_tree)\n",
    "    prediction_banzhaf.append(prediction)\n",
    "    prediction = classify(test_example,banzhaf_tree_untouched)\n",
    "    prediction_banzhaf_untouched.append(prediction)"
   ]
  },
  {
   "cell_type": "code",
   "execution_count": null,
   "metadata": {
    "collapsed": true
   },
   "outputs": [],
   "source": [
    "from sklearn.metrics import accuracy_score\n",
    "print(accuracy_score(y_test,prediction_banzhaf_untouched))\n",
    "print(accuracy_score(y_test,prediction_banzhaf))"
   ]
  },
  {
   "cell_type": "code",
   "execution_count": null,
   "metadata": {
    "collapsed": true
   },
   "outputs": [],
   "source": []
  }
 ],
 "metadata": {
  "kernelspec": {
   "display_name": "Python 3",
   "language": "python",
   "name": "python3"
  },
  "language_info": {
   "codemirror_mode": {
    "name": "ipython",
    "version": 3
   },
   "file_extension": ".py",
   "mimetype": "text/x-python",
   "name": "python",
   "nbconvert_exporter": "python",
   "pygments_lexer": "ipython3",
   "version": "3.5.2"
  }
 },
 "nbformat": 4,
 "nbformat_minor": 2
}
